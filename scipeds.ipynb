{
 "cells": [
  {
   "cell_type": "code",
   "execution_count": 3,
   "metadata": {},
   "outputs": [
    {
     "name": "stdout",
     "output_type": "stream",
     "text": [
      "Database already downloaded to /Users/kevinphan981/Library/Caches/.scipeds/scipeds_0_0_8.duckdb. To re-download and overwrite the existing file, re-run with `overwrite` set to `True`(from within Python) or add --overwrite to your CLI command.\n"
     ]
    }
   ],
   "source": [
    "import pandas as pd\n",
    "import scipeds\n",
    "\n",
    "scipeds.download_db()\n",
    "\n",
    "from scipeds.data.completions import CompletionsQueryEngine\n",
    "from scipeds.data.queries import (\n",
    "    FieldTaxonomy,\n",
    "    QueryFilters, \n",
    ")\n",
    "\n",
    "engine = CompletionsQueryEngine()\n",
    "\n"
   ]
  },
  {
   "cell_type": "code",
   "execution_count": 87,
   "id": "c7c37b05",
   "metadata": {},
   "outputs": [
    {
     "name": "stdout",
     "output_type": "stream",
     "text": [
      "   year  unitid  cipcode                                            awlevel  \\\n",
      "0  2010  100760  12.0401  Award of at least 1 but less than 2 academic y...   \n",
      "1  2010  101240  12.0401                 Award of less than 1 academic year   \n",
      "2  2010  101240  12.0401                 Award of less than 1 academic year   \n",
      "3  2010  101240  12.0401                 Award of less than 1 academic year   \n",
      "4  2010  101240  12.0401                 Award of less than 1 academic year   \n",
      "\n",
      "   cip2020             race_ethnicity gender  n_awards  \n",
      "0  12.0401  Black or African American  women         3  \n",
      "1  12.0401                    Unknown  women         1  \n",
      "2  12.0401  Black or African American    men         1  \n",
      "3  12.0401  Black or African American  women         2  \n",
      "4  12.0401         Hispanic or Latino  women         1  \n",
      "(146367, 8)\n"
     ]
    }
   ],
   "source": [
    "from scipeds.constants import COMPLETIONS_TABLE\n",
    "#  majornum,\n",
    "completions = engine.get_df_from_query(f\"\"\"\n",
    "    SELECT year, unitid, cipcode, awlevel, cip2020, race_ethnicity, gender, n_awards  \n",
    "    FROM {COMPLETIONS_TABLE}\n",
    "    WHERE YEAR BETWEEN 2010 AND 2019\n",
    "    AND regexp_matches(CAST(CIPCODE AS VARCHAR), '^12\\\\.04.*$')\n",
    "    ;\n",
    "\"\"\")\n",
    "\n",
    "completions_total = engine.get_df_from_query(f\"\"\"\n",
    "    SELECT year, unitid, cipcode, awlevel, cip2020, race_ethnicity, gender, n_awards as n_awards_total \n",
    "    FROM {COMPLETIONS_TABLE}\n",
    "    WHERE YEAR BETWEEN 2010 AND 2019\n",
    "    ;\n",
    "\"\"\")\n",
    "print(completions.head())\n",
    "print(completions.shape)"
   ]
  },
  {
   "cell_type": "code",
   "execution_count": 5,
   "id": "e0eaa16f",
   "metadata": {},
   "outputs": [
    {
     "data": {
      "application/vnd.microsoft.datawrangler.viewer.v0+json": {
       "columns": [
        {
         "name": "index",
         "rawType": "int64",
         "type": "integer"
        },
        {
         "name": "name",
         "rawType": "object",
         "type": "string"
        }
       ],
       "ref": "88f513f4-bb04-4b02-ba0e-e6d32f05f170",
       "rows": [
        [
         "0",
         "cip_info"
        ],
        [
         "1",
         "ipeds_completions_a"
        ],
        [
         "2",
         "ipeds_directory_info"
        ]
       ],
       "shape": {
        "columns": 1,
        "rows": 3
       }
      },
      "text/html": [
       "<div>\n",
       "<style scoped>\n",
       "    .dataframe tbody tr th:only-of-type {\n",
       "        vertical-align: middle;\n",
       "    }\n",
       "\n",
       "    .dataframe tbody tr th {\n",
       "        vertical-align: top;\n",
       "    }\n",
       "\n",
       "    .dataframe thead th {\n",
       "        text-align: right;\n",
       "    }\n",
       "</style>\n",
       "<table border=\"1\" class=\"dataframe\">\n",
       "  <thead>\n",
       "    <tr style=\"text-align: right;\">\n",
       "      <th></th>\n",
       "      <th>name</th>\n",
       "    </tr>\n",
       "  </thead>\n",
       "  <tbody>\n",
       "    <tr>\n",
       "      <th>0</th>\n",
       "      <td>cip_info</td>\n",
       "    </tr>\n",
       "    <tr>\n",
       "      <th>1</th>\n",
       "      <td>ipeds_completions_a</td>\n",
       "    </tr>\n",
       "    <tr>\n",
       "      <th>2</th>\n",
       "      <td>ipeds_directory_info</td>\n",
       "    </tr>\n",
       "  </tbody>\n",
       "</table>\n",
       "</div>"
      ],
      "text/plain": [
       "                   name\n",
       "0              cip_info\n",
       "1   ipeds_completions_a\n",
       "2  ipeds_directory_info"
      ]
     },
     "execution_count": 5,
     "metadata": {},
     "output_type": "execute_result"
    }
   ],
   "source": [
    "# to see the tables available\n",
    "\n",
    "query = \"SHOW TABLES\"\n",
    "\n",
    "engine.get_df_from_query(query) # this package doesn't offer that much, but it does at least offer the completions data"
   ]
  },
  {
   "cell_type": "code",
   "execution_count": 6,
   "id": "da8c130f",
   "metadata": {},
   "outputs": [
    {
     "name": "stdout",
     "output_type": "stream",
     "text": [
      "(9469, 102)\n"
     ]
    }
   ],
   "source": [
    "institution_fip = engine.get_institutions_table() # reads in all institutions and their features (we need state)\n",
    "print(institution_fip.shape)"
   ]
  },
  {
   "cell_type": "code",
   "execution_count": 7,
   "id": "d3a1d5ef",
   "metadata": {},
   "outputs": [
    {
     "name": "stdout",
     "output_type": "stream",
     "text": [
      "(2474,)\n"
     ]
    }
   ],
   "source": [
    "# creating index of cosmetology institutions\n",
    "# cosmetology_schools = pd.merge(institution_fip, completions, how = \"left\", on = \"unitid\")\n",
    "# wrong idea here, we need the unique schools from 'completions'\n",
    "\n",
    "cosmetology_schools = completions['unitid'].unique()\n",
    "\n",
    "print(cosmetology_schools.shape) # we cut down the amount by nearly a fourth\n"
   ]
  },
  {
   "cell_type": "markdown",
   "id": "ddd0fa58",
   "metadata": {},
   "source": [
    "## Switching Gears to Pypeds\n",
    "\n",
    "This is another library to help read in the data from IPEDS en masse. Whereas with the scipeds we could really only access the completions survey, we are able to access the other ones that we want.\n",
    "\n",
    "I would like: \n",
    "1. Enrollment data\n",
    "2. Retention rates\n",
    "\n",
    "However, this is for cosmetology schools that are dedicated only to cosmetology, a university that has a cosmetology major would not count for this. I will do this by using the graduation / enrollment ratio. If it is above a threshold of .5, then it is likely a cosmetology school. I will vary the cutoff to see if anything changes."
   ]
  },
  {
   "cell_type": "code",
   "execution_count": 69,
   "id": "6638497a",
   "metadata": {},
   "outputs": [
    {
     "name": "stdout",
     "output_type": "stream",
     "text": [
      "     unitid  efcstate  line xefres01  efres01 xefres02 efres02  survey_year  \\\n",
      "0  100654.0       1.0   1.0        R    720.0        R     646       2010.0   \n",
      "1  100654.0       2.0   2.0        R      2.0        R       1       2010.0   \n",
      "2  100654.0       4.0   4.0        R      2.0        R       2       2010.0   \n",
      "3  100654.0       5.0   5.0        R      1.0        R       1       2010.0   \n",
      "4  100654.0       6.0   6.0        R      7.0        R       5       2010.0   \n",
      "\n",
      "   fall_year  \n",
      "0     2010.0  \n",
      "1     2010.0  \n",
      "2     2010.0  \n",
      "3     2010.0  \n",
      "4     2010.0  \n",
      "(526136, 9)\n"
     ]
    }
   ],
   "source": [
    "import pypeds\n",
    "from pypeds import ipeds\n",
    "\n",
    "timeframe = range(2010, 2019, 1)\n",
    "enrollment = ipeds.EFC(years = timeframe)\n",
    "enrollment.extract()\n",
    "\n",
    "enrollment_df = enrollment.load()\n",
    "print(enrollment_df.head())\n",
    "print(enrollment_df.shape)\n"
   ]
  },
  {
   "cell_type": "code",
   "execution_count": null,
   "id": "d1dd7d7e",
   "metadata": {},
   "outputs": [
    {
     "ename": "KeyError",
     "evalue": "\"['xgrcohrt', 'grcohrt', 'xugenter', 'ugentern', 'xpgrcohr', 'pgrcohrt', 'xrrftct'] not in index\"",
     "output_type": "error",
     "traceback": [
      "\u001b[31m---------------------------------------------------------------------------\u001b[39m",
      "\u001b[31mKeyError\u001b[39m                                  Traceback (most recent call last)",
      "\u001b[36mCell\u001b[39m\u001b[36m \u001b[39m\u001b[32mIn[88]\u001b[39m\u001b[32m, line 2\u001b[39m\n\u001b[32m      1\u001b[39m enrollment_cosme = enrollment_df[enrollment_df[\u001b[33m'\u001b[39m\u001b[33munitid\u001b[39m\u001b[33m'\u001b[39m].isin(cosmetology_schools)]\n\u001b[32m----> \u001b[39m\u001b[32m2\u001b[39m enrollment_cosme = \u001b[43menrollment_cosme\u001b[49m\u001b[43m[\u001b[49m\u001b[43m[\u001b[49m\u001b[33;43m'\u001b[39;49m\u001b[33;43munitid\u001b[39;49m\u001b[33;43m'\u001b[39;49m\u001b[43m,\u001b[49m\u001b[43m \u001b[49m\u001b[33;43m'\u001b[39;49m\u001b[33;43mfall_year\u001b[39;49m\u001b[33;43m'\u001b[39;49m\u001b[43m,\u001b[49m\u001b[43m \u001b[49m\u001b[33;43m'\u001b[39;49m\u001b[33;43mxgrcohrt\u001b[39;49m\u001b[33;43m'\u001b[39;49m\u001b[43m,\u001b[49m\u001b[43m  \u001b[49m\u001b[33;43m'\u001b[39;49m\u001b[33;43mgrcohrt\u001b[39;49m\u001b[33;43m'\u001b[39;49m\u001b[43m,\u001b[49m\u001b[43m \u001b[49m\u001b[33;43m'\u001b[39;49m\u001b[33;43mxugenter\u001b[39;49m\u001b[33;43m'\u001b[39;49m\u001b[43m,\u001b[49m\u001b[43m  \u001b[49m\u001b[33;43m'\u001b[39;49m\u001b[33;43mugentern\u001b[39;49m\u001b[33;43m'\u001b[39;49m\u001b[43m,\u001b[49m\u001b[43m \u001b[49m\u001b[33;43m'\u001b[39;49m\u001b[33;43mxpgrcohr\u001b[39;49m\u001b[33;43m'\u001b[39;49m\u001b[43m,\u001b[49m\u001b[43m  \u001b[49m\u001b[33;43m'\u001b[39;49m\u001b[33;43mpgrcohrt\u001b[39;49m\u001b[33;43m'\u001b[39;49m\u001b[43m,\u001b[49m\u001b[43m \u001b[49m\u001b[33;43m'\u001b[39;49m\u001b[33;43mxrrftct\u001b[39;49m\u001b[33;43m'\u001b[39;49m\u001b[43m]\u001b[49m\u001b[43m]\u001b[49m\n\u001b[32m      3\u001b[39m \u001b[38;5;28mprint\u001b[39m(enrollment_cosme.head())\n\u001b[32m      4\u001b[39m \u001b[38;5;28mprint\u001b[39m(enrollment_cosme.shape)\n",
      "\u001b[36mFile \u001b[39m\u001b[32m~/Programming/occupational-licensing-study/.venv/lib/python3.13/site-packages/pandas/core/frame.py:4119\u001b[39m, in \u001b[36mDataFrame.__getitem__\u001b[39m\u001b[34m(self, key)\u001b[39m\n\u001b[32m   4117\u001b[39m     \u001b[38;5;28;01mif\u001b[39;00m is_iterator(key):\n\u001b[32m   4118\u001b[39m         key = \u001b[38;5;28mlist\u001b[39m(key)\n\u001b[32m-> \u001b[39m\u001b[32m4119\u001b[39m     indexer = \u001b[38;5;28;43mself\u001b[39;49m\u001b[43m.\u001b[49m\u001b[43mcolumns\u001b[49m\u001b[43m.\u001b[49m\u001b[43m_get_indexer_strict\u001b[49m\u001b[43m(\u001b[49m\u001b[43mkey\u001b[49m\u001b[43m,\u001b[49m\u001b[43m \u001b[49m\u001b[33;43m\"\u001b[39;49m\u001b[33;43mcolumns\u001b[39;49m\u001b[33;43m\"\u001b[39;49m\u001b[43m)\u001b[49m[\u001b[32m1\u001b[39m]\n\u001b[32m   4121\u001b[39m \u001b[38;5;66;03m# take() does not accept boolean indexers\u001b[39;00m\n\u001b[32m   4122\u001b[39m \u001b[38;5;28;01mif\u001b[39;00m \u001b[38;5;28mgetattr\u001b[39m(indexer, \u001b[33m\"\u001b[39m\u001b[33mdtype\u001b[39m\u001b[33m\"\u001b[39m, \u001b[38;5;28;01mNone\u001b[39;00m) == \u001b[38;5;28mbool\u001b[39m:\n",
      "\u001b[36mFile \u001b[39m\u001b[32m~/Programming/occupational-licensing-study/.venv/lib/python3.13/site-packages/pandas/core/indexes/base.py:6212\u001b[39m, in \u001b[36mIndex._get_indexer_strict\u001b[39m\u001b[34m(self, key, axis_name)\u001b[39m\n\u001b[32m   6209\u001b[39m \u001b[38;5;28;01melse\u001b[39;00m:\n\u001b[32m   6210\u001b[39m     keyarr, indexer, new_indexer = \u001b[38;5;28mself\u001b[39m._reindex_non_unique(keyarr)\n\u001b[32m-> \u001b[39m\u001b[32m6212\u001b[39m \u001b[38;5;28;43mself\u001b[39;49m\u001b[43m.\u001b[49m\u001b[43m_raise_if_missing\u001b[49m\u001b[43m(\u001b[49m\u001b[43mkeyarr\u001b[49m\u001b[43m,\u001b[49m\u001b[43m \u001b[49m\u001b[43mindexer\u001b[49m\u001b[43m,\u001b[49m\u001b[43m \u001b[49m\u001b[43maxis_name\u001b[49m\u001b[43m)\u001b[49m\n\u001b[32m   6214\u001b[39m keyarr = \u001b[38;5;28mself\u001b[39m.take(indexer)\n\u001b[32m   6215\u001b[39m \u001b[38;5;28;01mif\u001b[39;00m \u001b[38;5;28misinstance\u001b[39m(key, Index):\n\u001b[32m   6216\u001b[39m     \u001b[38;5;66;03m# GH 42790 - Preserve name from an Index\u001b[39;00m\n",
      "\u001b[36mFile \u001b[39m\u001b[32m~/Programming/occupational-licensing-study/.venv/lib/python3.13/site-packages/pandas/core/indexes/base.py:6264\u001b[39m, in \u001b[36mIndex._raise_if_missing\u001b[39m\u001b[34m(self, key, indexer, axis_name)\u001b[39m\n\u001b[32m   6261\u001b[39m     \u001b[38;5;28;01mraise\u001b[39;00m \u001b[38;5;167;01mKeyError\u001b[39;00m(\u001b[33mf\u001b[39m\u001b[33m\"\u001b[39m\u001b[33mNone of [\u001b[39m\u001b[38;5;132;01m{\u001b[39;00mkey\u001b[38;5;132;01m}\u001b[39;00m\u001b[33m] are in the [\u001b[39m\u001b[38;5;132;01m{\u001b[39;00maxis_name\u001b[38;5;132;01m}\u001b[39;00m\u001b[33m]\u001b[39m\u001b[33m\"\u001b[39m)\n\u001b[32m   6263\u001b[39m not_found = \u001b[38;5;28mlist\u001b[39m(ensure_index(key)[missing_mask.nonzero()[\u001b[32m0\u001b[39m]].unique())\n\u001b[32m-> \u001b[39m\u001b[32m6264\u001b[39m \u001b[38;5;28;01mraise\u001b[39;00m \u001b[38;5;167;01mKeyError\u001b[39;00m(\u001b[33mf\u001b[39m\u001b[33m\"\u001b[39m\u001b[38;5;132;01m{\u001b[39;00mnot_found\u001b[38;5;132;01m}\u001b[39;00m\u001b[33m not in index\u001b[39m\u001b[33m\"\u001b[39m)\n",
      "\u001b[31mKeyError\u001b[39m: \"['xgrcohrt', 'grcohrt', 'xugenter', 'ugentern', 'xpgrcohr', 'pgrcohrt', 'xrrftct'] not in index\""
     ]
    }
   ],
   "source": [
    "enrollment_cosme = enrollment_df[enrollment_df['unitid'].isin(cosmetology_schools)]\n",
    "#enrollment_cosme = enrollment_cosme[['unitid', 'fall_year', 'xgrcohrt',  'grcohrt', 'xugenter',  'ugentern', 'xpgrcohr',  'pgrcohrt', 'xrrftct']]\n",
    "print(enrollment_cosme.head())\n",
    "print(enrollment_cosme.shape)"
   ]
  },
  {
   "cell_type": "code",
   "execution_count": 71,
   "id": "de9b5aa2",
   "metadata": {},
   "outputs": [
    {
     "name": "stdout",
     "output_type": "stream",
     "text": [
      "          unitid  efcstate   line xefres01  efres01 xefres02 efres02  \\\n",
      "185     100760.0       1.0    1.0        R    678.0        R     441   \n",
      "186     100760.0       6.0    6.0        R      1.0        Z       0   \n",
      "187     100760.0      12.0   12.0        R      2.0        R       2   \n",
      "188     100760.0      13.0   13.0        R      3.0        R       3   \n",
      "189     100760.0      47.0   47.0        R      2.0        R       2   \n",
      "...          ...       ...    ...      ...      ...      ...     ...   \n",
      "455897  100760.0      33.0   33.0        R      1.0        R     1.0   \n",
      "455898  100760.0      42.0   42.0        R      1.0        R     1.0   \n",
      "455899  100760.0      54.0   54.0        R      1.0        R     1.0   \n",
      "455900  100760.0      58.0  999.0        R    372.0        R   305.0   \n",
      "455901  100760.0      99.0   99.0        R    372.0        R   305.0   \n",
      "\n",
      "        survey_year  fall_year  \n",
      "185          2010.0     2010.0  \n",
      "186          2010.0     2010.0  \n",
      "187          2010.0     2010.0  \n",
      "188          2010.0     2010.0  \n",
      "189          2010.0     2010.0  \n",
      "...             ...        ...  \n",
      "455897       2018.0     2018.0  \n",
      "455898       2018.0     2018.0  \n",
      "455899       2018.0     2018.0  \n",
      "455900       2018.0     2018.0  \n",
      "455901       2018.0     2018.0  \n",
      "\n",
      "[64 rows x 9 columns]\n"
     ]
    }
   ],
   "source": [
    "print(enrollment_cosme[enrollment_cosme['unitid'] == 100760])"
   ]
  },
  {
   "cell_type": "code",
   "execution_count": null,
   "id": "6329f51e",
   "metadata": {},
   "outputs": [],
   "source": [
    "# full_cosme_df = pd.merge(enrollment_cosme, completions, how = 'inner', on = 'unitid')\n",
    "# full_cosme_df.shape\n",
    "# TODO: Aggregate completions to year and institution, same with enrollment, regardless of demographic data.\n",
    "\n",
    "completions_agg = completions.groupby(['unitid', 'year']).sum('n_awards').reset_index() #major num means nothing here.\n",
    "completions_total_agg = completions_total.groupby(['unitid', 'year']).sum('n_awards_total').reset_index()\n",
    "\n",
    "# not really necessary, but there.\n",
    "enrollment_agg = enrollment_cosme.groupby(['unitid', 'fall_year']).sum('efres01').reset_index()\n",
    "enrollment_agg['year'] = enrollment_agg['fall_year']"
   ]
  },
  {
   "cell_type": "code",
   "execution_count": null,
   "id": "e8374d12",
   "metadata": {},
   "outputs": [],
   "source": []
  },
  {
   "cell_type": "code",
   "execution_count": null,
   "id": "afcb747d",
   "metadata": {},
   "outputs": [
    {
     "name": "stdout",
     "output_type": "stream",
     "text": [
      "(12147, 5)\n",
      "(1705,)\n"
     ]
    }
   ],
   "source": [
    "full_cosme_agg = pd.merge(completions_agg, completions_total_agg, how = 'inner', on = ['unitid', 'year'])\n",
    "full_cosme_agg.head()\n",
    "\n",
    "\n",
    "full_cosme_agg['cosme_ratio'] = full_cosme_agg['n_awards']/full_cosme_agg['n_awards_total']\n",
    "\n",
    "# conditional to filter\n",
    "\n",
    "full_cosme_agg = full_cosme_agg[full_cosme_agg['cosme_ratio'] > .9] # no this isn't possible.\n",
    "\n",
    "print(full_cosme_agg.shape)\n",
    "\n",
    "\n",
    "full_cosme_agg_index = full_cosme_agg['unitid'].unique()\n",
    "print(full_cosme_agg_index.shape)\n"
   ]
  },
  {
   "cell_type": "code",
   "execution_count": null,
   "id": "4d527fbe",
   "metadata": {},
   "outputs": [],
   "source": []
  }
 ],
 "metadata": {
  "kernelspec": {
   "display_name": ".venv",
   "language": "python",
   "name": "python3"
  },
  "language_info": {
   "codemirror_mode": {
    "name": "ipython",
    "version": 3
   },
   "file_extension": ".py",
   "mimetype": "text/x-python",
   "name": "python",
   "nbconvert_exporter": "python",
   "pygments_lexer": "ipython3",
   "version": "3.13.7"
  }
 },
 "nbformat": 4,
 "nbformat_minor": 5
}

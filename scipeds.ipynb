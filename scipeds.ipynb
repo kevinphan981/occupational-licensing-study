{
 "cells": [
  {
   "cell_type": "code",
   "execution_count": null,
   "metadata": {},
   "outputs": [
    {
     "name": "stdout",
     "output_type": "stream",
     "text": [
      "Creating scipeds cache directory /Users/kevinphan981/Library/Caches/.scipeds.\n",
      "Downloading pre-processed IPEDS db to /Users/kevinphan981/Library/Caches/.scipeds/scipeds_0_0_8.duckdb\n",
      "Download complete.\n",
      "scipeds has 1 files and is using 332MB in /Users/kevinphan981/Library/Caches/.scipeds\n"
     ]
    },
    {
     "name": "stderr",
     "output_type": "stream",
     "text": [
      "/Users/kevinphan981/Programming/occupational-licensing-study/.venv/lib/python3.13/site-packages/scipeds/data/queries.py:102: UserWarning: IPEDS award level coding and race and ethnicity coding changed between 2010 and 2011 datasets. For more details, see https://docs.scipeds.org/faq/#what-data-is-currently-included-in-scipeds\n",
      "  warnings.warn(\n",
      "/Users/kevinphan981/Programming/occupational-licensing-study/.venv/lib/python3.13/site-packages/scipeds/data/queries.py:110: UserWarning: Race/ethnicity data is not available before 1995. All race/ethnicities prior to 1995 are treated as 'unknown'.\n",
      "  warnings.warn(\n"
     ]
    },
    {
     "data": {
      "application/vnd.microsoft.datawrangler.viewer.v0+json": {
       "columns": [
        {
         "name": "('ncses_field_group', 'gender')",
         "rawType": "object",
         "type": "unknown"
        },
        {
         "name": "field_degrees_within_gender",
         "rawType": "int64",
         "type": "integer"
        },
        {
         "name": "field_degrees_total",
         "rawType": "int64",
         "type": "integer"
        },
        {
         "name": "uni_degrees_within_gender",
         "rawType": "int64",
         "type": "integer"
        },
        {
         "name": "uni_degrees_total",
         "rawType": "int64",
         "type": "integer"
        }
       ],
       "ref": "dd04d368-711b-477c-adba-6e8e1a001d1b",
       "rows": [
        [
         "('Architecture and Environmental Design', 'men')",
         "365260",
         "667686",
         "64938013",
         "153967910"
        ],
        [
         "('Architecture and Environmental Design', 'women')",
         "302426",
         "667686",
         "89029897",
         "153967910"
        ],
        [
         "('Arts and Music', 'men')",
         "1878780",
         "4714207",
         "64938013",
         "153967910"
        ],
        [
         "('Arts and Music', 'women')",
         "2835427",
         "4714207",
         "89029897",
         "153967910"
        ],
        [
         "('Business and Management', 'men')",
         "13086119",
         "27946857",
         "64938013",
         "153967910"
        ]
       ],
       "shape": {
        "columns": 4,
        "rows": 5
       }
      },
      "text/html": [
       "<div>\n",
       "<style scoped>\n",
       "    .dataframe tbody tr th:only-of-type {\n",
       "        vertical-align: middle;\n",
       "    }\n",
       "\n",
       "    .dataframe tbody tr th {\n",
       "        vertical-align: top;\n",
       "    }\n",
       "\n",
       "    .dataframe thead th {\n",
       "        text-align: right;\n",
       "    }\n",
       "</style>\n",
       "<table border=\"1\" class=\"dataframe\">\n",
       "  <thead>\n",
       "    <tr style=\"text-align: right;\">\n",
       "      <th></th>\n",
       "      <th></th>\n",
       "      <th>field_degrees_within_gender</th>\n",
       "      <th>field_degrees_total</th>\n",
       "      <th>uni_degrees_within_gender</th>\n",
       "      <th>uni_degrees_total</th>\n",
       "    </tr>\n",
       "    <tr>\n",
       "      <th>ncses_field_group</th>\n",
       "      <th>gender</th>\n",
       "      <th></th>\n",
       "      <th></th>\n",
       "      <th></th>\n",
       "      <th></th>\n",
       "    </tr>\n",
       "  </thead>\n",
       "  <tbody>\n",
       "    <tr>\n",
       "      <th rowspan=\"2\" valign=\"top\">Architecture and Environmental Design</th>\n",
       "      <th>men</th>\n",
       "      <td>365260</td>\n",
       "      <td>667686</td>\n",
       "      <td>64938013</td>\n",
       "      <td>153967910</td>\n",
       "    </tr>\n",
       "    <tr>\n",
       "      <th>women</th>\n",
       "      <td>302426</td>\n",
       "      <td>667686</td>\n",
       "      <td>89029897</td>\n",
       "      <td>153967910</td>\n",
       "    </tr>\n",
       "    <tr>\n",
       "      <th rowspan=\"2\" valign=\"top\">Arts and Music</th>\n",
       "      <th>men</th>\n",
       "      <td>1878780</td>\n",
       "      <td>4714207</td>\n",
       "      <td>64938013</td>\n",
       "      <td>153967910</td>\n",
       "    </tr>\n",
       "    <tr>\n",
       "      <th>women</th>\n",
       "      <td>2835427</td>\n",
       "      <td>4714207</td>\n",
       "      <td>89029897</td>\n",
       "      <td>153967910</td>\n",
       "    </tr>\n",
       "    <tr>\n",
       "      <th>Business and Management</th>\n",
       "      <th>men</th>\n",
       "      <td>13086119</td>\n",
       "      <td>27946857</td>\n",
       "      <td>64938013</td>\n",
       "      <td>153967910</td>\n",
       "    </tr>\n",
       "  </tbody>\n",
       "</table>\n",
       "</div>"
      ],
      "text/plain": [
       "                                              field_degrees_within_gender  \\\n",
       "ncses_field_group                     gender                                \n",
       "Architecture and Environmental Design men                          365260   \n",
       "                                      women                        302426   \n",
       "Arts and Music                        men                         1878780   \n",
       "                                      women                       2835427   \n",
       "Business and Management               men                        13086119   \n",
       "\n",
       "                                              field_degrees_total  \\\n",
       "ncses_field_group                     gender                        \n",
       "Architecture and Environmental Design men                  667686   \n",
       "                                      women                667686   \n",
       "Arts and Music                        men                 4714207   \n",
       "                                      women               4714207   \n",
       "Business and Management               men                27946857   \n",
       "\n",
       "                                              uni_degrees_within_gender  \\\n",
       "ncses_field_group                     gender                              \n",
       "Architecture and Environmental Design men                      64938013   \n",
       "                                      women                    89029897   \n",
       "Arts and Music                        men                      64938013   \n",
       "                                      women                    89029897   \n",
       "Business and Management               men                      64938013   \n",
       "\n",
       "                                              uni_degrees_total  \n",
       "ncses_field_group                     gender                     \n",
       "Architecture and Environmental Design men             153967910  \n",
       "                                      women           153967910  \n",
       "Arts and Music                        men             153967910  \n",
       "                                      women           153967910  \n",
       "Business and Management               men             153967910  "
      ]
     },
     "execution_count": 4,
     "metadata": {},
     "output_type": "execute_result"
    }
   ],
   "source": [
    "\n",
    "import scipeds\n",
    "\n",
    "scipeds.download_db()\n",
    "\n",
    "from scipeds.data.completions import CompletionsQueryEngine\n",
    "from scipeds.data.queries import (\n",
    "    FieldTaxonomy,\n",
    "    QueryFilters, \n",
    ")\n",
    "\n",
    "engine = CompletionsQueryEngine()\n",
    "\n"
   ]
  },
  {
   "cell_type": "code",
   "execution_count": 6,
   "id": "9b107d62",
   "metadata": {},
   "outputs": [
    {
     "ename": "SyntaxError",
     "evalue": "invalid syntax (1195154732.py, line 3)",
     "output_type": "error",
     "traceback": [
      "  \u001b[36mCell\u001b[39m\u001b[36m \u001b[39m\u001b[32mIn[6]\u001b[39m\u001b[32m, line 3\u001b[39m\n\u001b[31m    \u001b[39m\u001b[31mquery_filters=QueryFilters('start_year': 2010, 'end_year': 2019)\u001b[39m\n                                           ^\n\u001b[31mSyntaxError\u001b[39m\u001b[31m:\u001b[39m invalid syntax\n"
     ]
    }
   ],
   "source": [
    "completions = engine.field_totals_by_grouping(\n",
    "    taxonomy=FieldTaxonomy.original_cip,\n",
    "    query_filters=QueryFilters('start_year': 2010, 'end_year': 2019)\n",
    ")\n",
    "completions.head()"
   ]
  },
  {
   "cell_type": "code",
   "execution_count": 24,
   "id": "c7c37b05",
   "metadata": {},
   "outputs": [
    {
     "data": {
      "application/vnd.microsoft.datawrangler.viewer.v0+json": {
       "columns": [
        {
         "name": "index",
         "rawType": "int64",
         "type": "integer"
        },
        {
         "name": "year",
         "rawType": "uint16",
         "type": "integer"
        },
        {
         "name": "unitid",
         "rawType": "uint32",
         "type": "integer"
        },
        {
         "name": "cipcode",
         "rawType": "category",
         "type": "unknown"
        },
        {
         "name": "awlevel",
         "rawType": "category",
         "type": "unknown"
        },
        {
         "name": "majornum",
         "rawType": "uint8",
         "type": "integer"
        },
        {
         "name": "cip2020",
         "rawType": "category",
         "type": "unknown"
        },
        {
         "name": "race_ethnicity",
         "rawType": "category",
         "type": "unknown"
        },
        {
         "name": "gender",
         "rawType": "category",
         "type": "unknown"
        },
        {
         "name": "n_awards",
         "rawType": "uint32",
         "type": "integer"
        },
        {
         "name": "ncses_sci_group",
         "rawType": "category",
         "type": "unknown"
        },
        {
         "name": "ncses_field_group",
         "rawType": "category",
         "type": "unknown"
        },
        {
         "name": "ncses_detailed_field_group",
         "rawType": "category",
         "type": "unknown"
        },
        {
         "name": "nsf_broad_field",
         "rawType": "category",
         "type": "unknown"
        },
        {
         "name": "dhs_stem",
         "rawType": "bool",
         "type": "boolean"
        }
       ],
       "ref": "d768093f-ccd2-4f23-8295-05e61ae8c9bd",
       "rows": [
        [
         "0",
         "2010",
         "100760",
         "12.0401",
         "Award of at least 1 but less than 2 academic years",
         "1",
         "12.0401",
         "Black or African American",
         "women",
         "3",
         "Non-science and engineering",
         "Other Non-sciences or Unknown Disciplines",
         "Other Non-sciences or Unknown Disciplines",
         "Non-science and engineering",
         "False"
        ],
        [
         "1",
         "2010",
         "101240",
         "12.0401",
         "Award of less than 1 academic year",
         "1",
         "12.0401",
         "Unknown",
         "women",
         "1",
         "Non-science and engineering",
         "Other Non-sciences or Unknown Disciplines",
         "Other Non-sciences or Unknown Disciplines",
         "Non-science and engineering",
         "False"
        ],
        [
         "2",
         "2010",
         "101240",
         "12.0401",
         "Award of less than 1 academic year",
         "1",
         "12.0401",
         "Black or African American",
         "men",
         "1",
         "Non-science and engineering",
         "Other Non-sciences or Unknown Disciplines",
         "Other Non-sciences or Unknown Disciplines",
         "Non-science and engineering",
         "False"
        ],
        [
         "3",
         "2010",
         "101240",
         "12.0401",
         "Award of less than 1 academic year",
         "1",
         "12.0401",
         "Black or African American",
         "women",
         "2",
         "Non-science and engineering",
         "Other Non-sciences or Unknown Disciplines",
         "Other Non-sciences or Unknown Disciplines",
         "Non-science and engineering",
         "False"
        ],
        [
         "4",
         "2010",
         "101240",
         "12.0401",
         "Award of less than 1 academic year",
         "1",
         "12.0401",
         "Hispanic or Latino",
         "women",
         "1",
         "Non-science and engineering",
         "Other Non-sciences or Unknown Disciplines",
         "Other Non-sciences or Unknown Disciplines",
         "Non-science and engineering",
         "False"
        ]
       ],
       "shape": {
        "columns": 14,
        "rows": 5
       }
      },
      "text/html": [
       "<div>\n",
       "<style scoped>\n",
       "    .dataframe tbody tr th:only-of-type {\n",
       "        vertical-align: middle;\n",
       "    }\n",
       "\n",
       "    .dataframe tbody tr th {\n",
       "        vertical-align: top;\n",
       "    }\n",
       "\n",
       "    .dataframe thead th {\n",
       "        text-align: right;\n",
       "    }\n",
       "</style>\n",
       "<table border=\"1\" class=\"dataframe\">\n",
       "  <thead>\n",
       "    <tr style=\"text-align: right;\">\n",
       "      <th></th>\n",
       "      <th>year</th>\n",
       "      <th>unitid</th>\n",
       "      <th>cipcode</th>\n",
       "      <th>awlevel</th>\n",
       "      <th>majornum</th>\n",
       "      <th>cip2020</th>\n",
       "      <th>race_ethnicity</th>\n",
       "      <th>gender</th>\n",
       "      <th>n_awards</th>\n",
       "      <th>ncses_sci_group</th>\n",
       "      <th>ncses_field_group</th>\n",
       "      <th>ncses_detailed_field_group</th>\n",
       "      <th>nsf_broad_field</th>\n",
       "      <th>dhs_stem</th>\n",
       "    </tr>\n",
       "  </thead>\n",
       "  <tbody>\n",
       "    <tr>\n",
       "      <th>0</th>\n",
       "      <td>2010</td>\n",
       "      <td>100760</td>\n",
       "      <td>12.0401</td>\n",
       "      <td>Award of at least 1 but less than 2 academic y...</td>\n",
       "      <td>1</td>\n",
       "      <td>12.0401</td>\n",
       "      <td>Black or African American</td>\n",
       "      <td>women</td>\n",
       "      <td>3</td>\n",
       "      <td>Non-science and engineering</td>\n",
       "      <td>Other Non-sciences or Unknown Disciplines</td>\n",
       "      <td>Other Non-sciences or Unknown Disciplines</td>\n",
       "      <td>Non-science and engineering</td>\n",
       "      <td>False</td>\n",
       "    </tr>\n",
       "    <tr>\n",
       "      <th>1</th>\n",
       "      <td>2010</td>\n",
       "      <td>101240</td>\n",
       "      <td>12.0401</td>\n",
       "      <td>Award of less than 1 academic year</td>\n",
       "      <td>1</td>\n",
       "      <td>12.0401</td>\n",
       "      <td>Unknown</td>\n",
       "      <td>women</td>\n",
       "      <td>1</td>\n",
       "      <td>Non-science and engineering</td>\n",
       "      <td>Other Non-sciences or Unknown Disciplines</td>\n",
       "      <td>Other Non-sciences or Unknown Disciplines</td>\n",
       "      <td>Non-science and engineering</td>\n",
       "      <td>False</td>\n",
       "    </tr>\n",
       "    <tr>\n",
       "      <th>2</th>\n",
       "      <td>2010</td>\n",
       "      <td>101240</td>\n",
       "      <td>12.0401</td>\n",
       "      <td>Award of less than 1 academic year</td>\n",
       "      <td>1</td>\n",
       "      <td>12.0401</td>\n",
       "      <td>Black or African American</td>\n",
       "      <td>men</td>\n",
       "      <td>1</td>\n",
       "      <td>Non-science and engineering</td>\n",
       "      <td>Other Non-sciences or Unknown Disciplines</td>\n",
       "      <td>Other Non-sciences or Unknown Disciplines</td>\n",
       "      <td>Non-science and engineering</td>\n",
       "      <td>False</td>\n",
       "    </tr>\n",
       "    <tr>\n",
       "      <th>3</th>\n",
       "      <td>2010</td>\n",
       "      <td>101240</td>\n",
       "      <td>12.0401</td>\n",
       "      <td>Award of less than 1 academic year</td>\n",
       "      <td>1</td>\n",
       "      <td>12.0401</td>\n",
       "      <td>Black or African American</td>\n",
       "      <td>women</td>\n",
       "      <td>2</td>\n",
       "      <td>Non-science and engineering</td>\n",
       "      <td>Other Non-sciences or Unknown Disciplines</td>\n",
       "      <td>Other Non-sciences or Unknown Disciplines</td>\n",
       "      <td>Non-science and engineering</td>\n",
       "      <td>False</td>\n",
       "    </tr>\n",
       "    <tr>\n",
       "      <th>4</th>\n",
       "      <td>2010</td>\n",
       "      <td>101240</td>\n",
       "      <td>12.0401</td>\n",
       "      <td>Award of less than 1 academic year</td>\n",
       "      <td>1</td>\n",
       "      <td>12.0401</td>\n",
       "      <td>Hispanic or Latino</td>\n",
       "      <td>women</td>\n",
       "      <td>1</td>\n",
       "      <td>Non-science and engineering</td>\n",
       "      <td>Other Non-sciences or Unknown Disciplines</td>\n",
       "      <td>Other Non-sciences or Unknown Disciplines</td>\n",
       "      <td>Non-science and engineering</td>\n",
       "      <td>False</td>\n",
       "    </tr>\n",
       "  </tbody>\n",
       "</table>\n",
       "</div>"
      ],
      "text/plain": [
       "   year  unitid  cipcode                                            awlevel  \\\n",
       "0  2010  100760  12.0401  Award of at least 1 but less than 2 academic y...   \n",
       "1  2010  101240  12.0401                 Award of less than 1 academic year   \n",
       "2  2010  101240  12.0401                 Award of less than 1 academic year   \n",
       "3  2010  101240  12.0401                 Award of less than 1 academic year   \n",
       "4  2010  101240  12.0401                 Award of less than 1 academic year   \n",
       "\n",
       "   majornum  cip2020             race_ethnicity gender  n_awards  \\\n",
       "0         1  12.0401  Black or African American  women         3   \n",
       "1         1  12.0401                    Unknown  women         1   \n",
       "2         1  12.0401  Black or African American    men         1   \n",
       "3         1  12.0401  Black or African American  women         2   \n",
       "4         1  12.0401         Hispanic or Latino  women         1   \n",
       "\n",
       "               ncses_sci_group                          ncses_field_group  \\\n",
       "0  Non-science and engineering  Other Non-sciences or Unknown Disciplines   \n",
       "1  Non-science and engineering  Other Non-sciences or Unknown Disciplines   \n",
       "2  Non-science and engineering  Other Non-sciences or Unknown Disciplines   \n",
       "3  Non-science and engineering  Other Non-sciences or Unknown Disciplines   \n",
       "4  Non-science and engineering  Other Non-sciences or Unknown Disciplines   \n",
       "\n",
       "                  ncses_detailed_field_group              nsf_broad_field  \\\n",
       "0  Other Non-sciences or Unknown Disciplines  Non-science and engineering   \n",
       "1  Other Non-sciences or Unknown Disciplines  Non-science and engineering   \n",
       "2  Other Non-sciences or Unknown Disciplines  Non-science and engineering   \n",
       "3  Other Non-sciences or Unknown Disciplines  Non-science and engineering   \n",
       "4  Other Non-sciences or Unknown Disciplines  Non-science and engineering   \n",
       "\n",
       "   dhs_stem  \n",
       "0     False  \n",
       "1     False  \n",
       "2     False  \n",
       "3     False  \n",
       "4     False  "
      ]
     },
     "execution_count": 24,
     "metadata": {},
     "output_type": "execute_result"
    }
   ],
   "source": [
    "from scipeds.constants import COMPLETIONS_TABLE\n",
    "\n",
    "df = engine.get_df_from_query(f\"\"\"\n",
    "    SELECT *  \n",
    "    FROM {COMPLETIONS_TABLE}\n",
    "    WHERE YEAR BETWEEN 2010 AND 2019\n",
    "    AND regexp_matches(CAST(CIPCODE AS VARCHAR), '^12\\\\.04.*$')\n",
    "    ;\n",
    "\"\"\")\n",
    "df.head()"
   ]
  },
  {
   "cell_type": "code",
   "execution_count": 25,
   "id": "50d9aaa9",
   "metadata": {},
   "outputs": [
    {
     "data": {
      "text/plain": [
       "(146367, 14)"
      ]
     },
     "execution_count": 25,
     "metadata": {},
     "output_type": "execute_result"
    }
   ],
   "source": [
    "df.shape"
   ]
  },
  {
   "cell_type": "code",
   "execution_count": null,
   "id": "e0eaa16f",
   "metadata": {},
   "outputs": [],
   "source": []
  }
 ],
 "metadata": {
  "kernelspec": {
   "display_name": ".venv",
   "language": "python",
   "name": "python3"
  },
  "language_info": {
   "codemirror_mode": {
    "name": "ipython",
    "version": 3
   },
   "file_extension": ".py",
   "mimetype": "text/x-python",
   "name": "python",
   "nbconvert_exporter": "python",
   "pygments_lexer": "ipython3",
   "version": "3.13.7"
  }
 },
 "nbformat": 4,
 "nbformat_minor": 5
}
